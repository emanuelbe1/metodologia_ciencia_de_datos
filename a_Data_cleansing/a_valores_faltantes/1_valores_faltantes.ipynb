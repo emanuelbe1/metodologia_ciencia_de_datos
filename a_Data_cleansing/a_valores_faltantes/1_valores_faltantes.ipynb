{
 "cells": [
  {
   "cell_type": "markdown",
   "id": "1c541d02-829b-4ae3-a298-428bc4b23e2b",
   "metadata": {},
   "source": [
    "<h3>Data Cleansing en el archivo .CSV \"Building_Permits.csv\"</h3><br>\n",
    "\n",
    "<b>Ejercicio</b>: Valores faltantes (missing values)<br>\n",
    "\n",
    "\n",
    "<hr><br>\n",
    "Importamos las librerias con las que trabajar(ya instaladas)."
   ]
  },
  {
   "cell_type": "code",
   "execution_count": 97,
   "id": "964f6ec2-c781-42ff-a2cd-e673589a0822",
   "metadata": {},
   "outputs": [],
   "source": [
    "import pandas as pd\n",
    "import numpy as np"
   ]
  },
  {
   "cell_type": "markdown",
   "id": "f07db816-08a4-4dfc-a809-084a2441ad71",
   "metadata": {},
   "source": [
    "Leemos el archivo que vamos a analizar. Se encuentra en esta misma carpeta."
   ]
  },
  {
   "cell_type": "code",
   "execution_count": 98,
   "id": "a3d803e9-17c3-4c8f-bc44-acc041ab74c3",
   "metadata": {},
   "outputs": [],
   "source": [
    "building_df = pd.read_csv('Building_Permits.csv', low_memory = False)"
   ]
  },
  {
   "cell_type": "markdown",
   "id": "c95b2f87-d01c-4bf3-9944-77449b5d0504",
   "metadata": {},
   "source": [
    "<hr> Lo primero que debemos hacer con un dataset nuevo es observar una muestra de sus datos. Esto nos permite ver que todo se leyó correctamente y nos da una idea de lo que sucede en estos. En nuestro caso, vamos a ver si faltan valores, que se representarán con NaN o None.<br><br>\n",
    " · Para esto usamos el metodo <b>.head()</b>, que nos deja ver los primeros cinco datos.<br> ·También podriamos usar el metodo <b>.sample()</b>, que muestra un dato aleatorio dentro del conjunto de datos, con el parametro \"5\" o el numero que queramos de muestras."
   ]
  },
  {
   "cell_type": "code",
   "execution_count": 99,
   "id": "d0b0c362-4907-49d4-ab3f-7ba3f7c21aab",
   "metadata": {},
   "outputs": [
    {
     "data": {
      "text/html": [
       "<div>\n",
       "<style scoped>\n",
       "    .dataframe tbody tr th:only-of-type {\n",
       "        vertical-align: middle;\n",
       "    }\n",
       "\n",
       "    .dataframe tbody tr th {\n",
       "        vertical-align: top;\n",
       "    }\n",
       "\n",
       "    .dataframe thead th {\n",
       "        text-align: right;\n",
       "    }\n",
       "</style>\n",
       "<table border=\"1\" class=\"dataframe\">\n",
       "  <thead>\n",
       "    <tr style=\"text-align: right;\">\n",
       "      <th></th>\n",
       "      <th>Permit Number</th>\n",
       "      <th>Permit Type</th>\n",
       "      <th>Permit Type Definition</th>\n",
       "      <th>Permit Creation Date</th>\n",
       "      <th>Block</th>\n",
       "      <th>Lot</th>\n",
       "      <th>Street Number</th>\n",
       "      <th>Street Number Suffix</th>\n",
       "      <th>Street Name</th>\n",
       "      <th>Street Suffix</th>\n",
       "      <th>...</th>\n",
       "      <th>Existing Construction Type</th>\n",
       "      <th>Existing Construction Type Description</th>\n",
       "      <th>Proposed Construction Type</th>\n",
       "      <th>Proposed Construction Type Description</th>\n",
       "      <th>Site Permit</th>\n",
       "      <th>Supervisor District</th>\n",
       "      <th>Neighborhoods - Analysis Boundaries</th>\n",
       "      <th>Zipcode</th>\n",
       "      <th>Location</th>\n",
       "      <th>Record ID</th>\n",
       "    </tr>\n",
       "  </thead>\n",
       "  <tbody>\n",
       "    <tr>\n",
       "      <th>0</th>\n",
       "      <td>201505065519</td>\n",
       "      <td>4</td>\n",
       "      <td>sign - erect</td>\n",
       "      <td>05/06/2015</td>\n",
       "      <td>0326</td>\n",
       "      <td>023</td>\n",
       "      <td>140</td>\n",
       "      <td>NaN</td>\n",
       "      <td>Ellis</td>\n",
       "      <td>St</td>\n",
       "      <td>...</td>\n",
       "      <td>3.0</td>\n",
       "      <td>constr type 3</td>\n",
       "      <td>NaN</td>\n",
       "      <td>NaN</td>\n",
       "      <td>NaN</td>\n",
       "      <td>3.0</td>\n",
       "      <td>Tenderloin</td>\n",
       "      <td>94102.0</td>\n",
       "      <td>(37.785719256680785, -122.40852313194863)</td>\n",
       "      <td>1380611233945</td>\n",
       "    </tr>\n",
       "    <tr>\n",
       "      <th>1</th>\n",
       "      <td>201604195146</td>\n",
       "      <td>4</td>\n",
       "      <td>sign - erect</td>\n",
       "      <td>04/19/2016</td>\n",
       "      <td>0306</td>\n",
       "      <td>007</td>\n",
       "      <td>440</td>\n",
       "      <td>NaN</td>\n",
       "      <td>Geary</td>\n",
       "      <td>St</td>\n",
       "      <td>...</td>\n",
       "      <td>3.0</td>\n",
       "      <td>constr type 3</td>\n",
       "      <td>NaN</td>\n",
       "      <td>NaN</td>\n",
       "      <td>NaN</td>\n",
       "      <td>3.0</td>\n",
       "      <td>Tenderloin</td>\n",
       "      <td>94102.0</td>\n",
       "      <td>(37.78733980600732, -122.41063199757738)</td>\n",
       "      <td>1420164406718</td>\n",
       "    </tr>\n",
       "    <tr>\n",
       "      <th>2</th>\n",
       "      <td>201605278609</td>\n",
       "      <td>3</td>\n",
       "      <td>additions alterations or repairs</td>\n",
       "      <td>05/27/2016</td>\n",
       "      <td>0595</td>\n",
       "      <td>203</td>\n",
       "      <td>1647</td>\n",
       "      <td>NaN</td>\n",
       "      <td>Pacific</td>\n",
       "      <td>Av</td>\n",
       "      <td>...</td>\n",
       "      <td>1.0</td>\n",
       "      <td>constr type 1</td>\n",
       "      <td>1.0</td>\n",
       "      <td>constr type 1</td>\n",
       "      <td>NaN</td>\n",
       "      <td>3.0</td>\n",
       "      <td>Russian Hill</td>\n",
       "      <td>94109.0</td>\n",
       "      <td>(37.7946573324287, -122.42232562979227)</td>\n",
       "      <td>1424856504716</td>\n",
       "    </tr>\n",
       "    <tr>\n",
       "      <th>3</th>\n",
       "      <td>201611072166</td>\n",
       "      <td>8</td>\n",
       "      <td>otc alterations permit</td>\n",
       "      <td>11/07/2016</td>\n",
       "      <td>0156</td>\n",
       "      <td>011</td>\n",
       "      <td>1230</td>\n",
       "      <td>NaN</td>\n",
       "      <td>Pacific</td>\n",
       "      <td>Av</td>\n",
       "      <td>...</td>\n",
       "      <td>5.0</td>\n",
       "      <td>wood frame (5)</td>\n",
       "      <td>5.0</td>\n",
       "      <td>wood frame (5)</td>\n",
       "      <td>NaN</td>\n",
       "      <td>3.0</td>\n",
       "      <td>Nob Hill</td>\n",
       "      <td>94109.0</td>\n",
       "      <td>(37.79595867909168, -122.41557405519474)</td>\n",
       "      <td>1443574295566</td>\n",
       "    </tr>\n",
       "    <tr>\n",
       "      <th>4</th>\n",
       "      <td>201611283529</td>\n",
       "      <td>6</td>\n",
       "      <td>demolitions</td>\n",
       "      <td>11/28/2016</td>\n",
       "      <td>0342</td>\n",
       "      <td>001</td>\n",
       "      <td>950</td>\n",
       "      <td>NaN</td>\n",
       "      <td>Market</td>\n",
       "      <td>St</td>\n",
       "      <td>...</td>\n",
       "      <td>3.0</td>\n",
       "      <td>constr type 3</td>\n",
       "      <td>NaN</td>\n",
       "      <td>NaN</td>\n",
       "      <td>NaN</td>\n",
       "      <td>6.0</td>\n",
       "      <td>Tenderloin</td>\n",
       "      <td>94102.0</td>\n",
       "      <td>(37.78315261897309, -122.40950883997789)</td>\n",
       "      <td>144548169992</td>\n",
       "    </tr>\n",
       "  </tbody>\n",
       "</table>\n",
       "<p>5 rows × 43 columns</p>\n",
       "</div>"
      ],
      "text/plain": [
       "  Permit Number  Permit Type            Permit Type Definition  \\\n",
       "0  201505065519            4                      sign - erect   \n",
       "1  201604195146            4                      sign - erect   \n",
       "2  201605278609            3  additions alterations or repairs   \n",
       "3  201611072166            8            otc alterations permit   \n",
       "4  201611283529            6                       demolitions   \n",
       "\n",
       "  Permit Creation Date Block  Lot  Street Number Street Number Suffix  \\\n",
       "0           05/06/2015  0326  023            140                  NaN   \n",
       "1           04/19/2016  0306  007            440                  NaN   \n",
       "2           05/27/2016  0595  203           1647                  NaN   \n",
       "3           11/07/2016  0156  011           1230                  NaN   \n",
       "4           11/28/2016  0342  001            950                  NaN   \n",
       "\n",
       "  Street Name Street Suffix  ...  Existing Construction Type  \\\n",
       "0       Ellis            St  ...                         3.0   \n",
       "1       Geary            St  ...                         3.0   \n",
       "2     Pacific            Av  ...                         1.0   \n",
       "3     Pacific            Av  ...                         5.0   \n",
       "4      Market            St  ...                         3.0   \n",
       "\n",
       "  Existing Construction Type Description Proposed Construction Type  \\\n",
       "0                          constr type 3                        NaN   \n",
       "1                          constr type 3                        NaN   \n",
       "2                          constr type 1                        1.0   \n",
       "3                         wood frame (5)                        5.0   \n",
       "4                          constr type 3                        NaN   \n",
       "\n",
       "  Proposed Construction Type Description Site Permit Supervisor District  \\\n",
       "0                                    NaN         NaN                 3.0   \n",
       "1                                    NaN         NaN                 3.0   \n",
       "2                          constr type 1         NaN                 3.0   \n",
       "3                         wood frame (5)         NaN                 3.0   \n",
       "4                                    NaN         NaN                 6.0   \n",
       "\n",
       "  Neighborhoods - Analysis Boundaries  Zipcode  \\\n",
       "0                          Tenderloin  94102.0   \n",
       "1                          Tenderloin  94102.0   \n",
       "2                        Russian Hill  94109.0   \n",
       "3                            Nob Hill  94109.0   \n",
       "4                          Tenderloin  94102.0   \n",
       "\n",
       "                                    Location      Record ID  \n",
       "0  (37.785719256680785, -122.40852313194863)  1380611233945  \n",
       "1   (37.78733980600732, -122.41063199757738)  1420164406718  \n",
       "2    (37.7946573324287, -122.42232562979227)  1424856504716  \n",
       "3   (37.79595867909168, -122.41557405519474)  1443574295566  \n",
       "4   (37.78315261897309, -122.40950883997789)   144548169992  \n",
       "\n",
       "[5 rows x 43 columns]"
      ]
     },
     "execution_count": 99,
     "metadata": {},
     "output_type": "execute_result"
    }
   ],
   "source": [
    "building_df.head()"
   ]
  },
  {
   "cell_type": "markdown",
   "id": "06081987-ab9c-4f0d-af35-06f32cc70b93",
   "metadata": {},
   "source": [
    "<br>\n",
    "Vemos que efectivamente hay datos NaN o valor nulo en la columna 'Street Number Suffix'.\n",
    "<br>"
   ]
  },
  {
   "cell_type": "markdown",
   "id": "a0c90a08-2ca6-473d-b585-a9a847c80edc",
   "metadata": {},
   "source": [
    "<b> ¿Cúantos valores nulos hay en nuestro DataFrame?</b>"
   ]
  },
  {
   "cell_type": "markdown",
   "id": "acbbb5f0-d848-4143-a408-929131f6b607",
   "metadata": {},
   "source": [
    "· Creamos una variable con la suma total de todos los valores nulos, usando los metodos <b>.isnull()</b> y <b>.sum()</b>, que resulta en un objeto Serie."
   ]
  },
  {
   "cell_type": "code",
   "execution_count": 100,
   "id": "73c32b07-2d45-4c42-b1ba-ceab3d642319",
   "metadata": {},
   "outputs": [],
   "source": [
    "total_valores_null = building_df.isnull().sum()\n",
    "total_valores_null.sort_values(ascending = False, inplace = True) #Codigo para ordenar la serie"
   ]
  },
  {
   "cell_type": "code",
   "execution_count": 101,
   "id": "c67251ef-a1db-48b0-a797-fc0dd3775ce4",
   "metadata": {},
   "outputs": [
    {
     "data": {
      "text/plain": [
       "TIDF Compliance                  198898\n",
       "Voluntary Soft-Story Retrofit    198865\n",
       "Unit Suffix                      196939\n",
       "Street Number Suffix             196684\n",
       "Site Permit                      193541\n",
       "Structural Notification          191978\n",
       "Fire Only Permit                 180073\n",
       "Unit                             169421\n",
       "Completed Date                   101709\n",
       "Permit Expiration Date            51880\n",
       "dtype: int64"
      ]
     },
     "execution_count": 101,
     "metadata": {},
     "output_type": "execute_result"
    }
   ],
   "source": [
    "total_valores_null[0:10] #Vemos las 10 columnas con más valores NaN"
   ]
  },
  {
   "cell_type": "markdown",
   "id": "fb0c73c9-7c7d-4e14-9c98-d16b6b6dccfb",
   "metadata": {},
   "source": [
    "<hr>\n",
    "Usando <b>.shape</b>, podemos ver que el DataFrame se compone de 198900 filas y 43 columnas, lo que significa que casí el 100% de la columna TIDF Compliance esta rellenada con valores NaN."
   ]
  },
  {
   "cell_type": "markdown",
   "id": "1d25e724-e46a-457e-aabc-48ae1ab4aa59",
   "metadata": {},
   "source": [
    "· Podemos ver el porcentaje especifico de valores faltantes en el DataFrame"
   ]
  },
  {
   "cell_type": "code",
   "execution_count": 102,
   "id": "b1102c56-4906-44fd-904e-5e4a5572d8a8",
   "metadata": {},
   "outputs": [
    {
     "name": "stdout",
     "output_type": "stream",
     "text": [
      "El porcentaje de valores nulos es de: 26.26002 %\n"
     ]
    }
   ],
   "source": [
    "total_celdas = np.product(building_df.shape)\n",
    "total_datos_faltantes = total_valores_null.sum()\n",
    "porcentaje_de_nulos = (total_datos_faltantes/total_celdas) * 100\n",
    "\n",
    "print(\"El porcentaje de valores nulos es de:\", round(porcentaje_de_nulos, 5),  \"%\")"
   ]
  },
  {
   "cell_type": "markdown",
   "id": "9a0aa4b2-c4a7-4b64-a1bb-0c8b5c02ad59",
   "metadata": {},
   "source": [
    "<br>Vemos que <b>más de una cuarta parte</b> de los datos en el DataFrame corresponden a valores nulos."
   ]
  },
  {
   "cell_type": "markdown",
   "id": "8892e59e-2dfa-4bfd-8e41-d14f92db1ade",
   "metadata": {
    "tags": []
   },
   "source": [
    "<h2>Averiguar por qué faltan los datos</h2>\n",
    "<p>Ahora que sabemos que un gran porcentaje de estos datos son nulos, se debe de averiguar el <i>por qué</i> es de esta forma.</p>\n",
    " En este momento hay que preguntarse:\n",
    "    <ul><li>¿El valor falta porque no se ha registrado o porque no existe?</li>\n",
    "</ul>\n",
    "<p>Por ejemplo, si falta un valor porque no existia(o existe) en el momento en el que se registraron los datos, no tiene sentido intentar adivinar o inferir <i>cúal podría ser</i></p>\n",
    "\n",
    "En cambio, si faltase un valor que podia ser registrado y no se registro, se puede intentar adivinar <i>cúal podría haber sido</i> en función de los otros valores en esa columna y fila, y esto se conoce por el nombre <b>imputación</b>.<br> <br>\n",
    "En estadistica, la <b>imputación</b> es la sustitución de valores que no han sido informados en una observación por otros valores.\n",
    "\n"
   ]
  },
  {
   "cell_type": "markdown",
   "id": "d25ac446-b7a9-4f90-b766-a23dccbb512c",
   "metadata": {},
   "source": [
    "        building_df['Completed Date'].isnull().sum()\n",
    "    --> 101709\n",
    "\n",
    " Por ejemplo, la columna 'Completed Date' contiene 101.709 valores nulos. La intuición nos dice que corresponden a valores que no se pudieron registrar debido a que todavía no se ha completado la construcción de estas propiedades."
   ]
  },
  {
   "cell_type": "code",
   "execution_count": 103,
   "id": "5813c7c5-b318-4357-9b01-237d5c7631cf",
   "metadata": {
    "tags": []
   },
   "outputs": [
    {
     "name": "stdout",
     "output_type": "stream",
     "text": [
      "TIDF Compliance\n",
      "Voluntary Soft-Story Retrofit\n",
      "Unit Suffix\n",
      "Street Number Suffix\n",
      "Site Permit\n",
      "Structural Notification\n",
      "Fire Only Permit\n",
      "Unit\n"
     ]
    }
   ],
   "source": [
    "columna_muchos_null=[]\n",
    "for i in total_valores_null[0:8].index:\n",
    "    columna_muchos_null.append(i)\n",
    "    print(i)"
   ]
  },
  {
   "cell_type": "code",
   "execution_count": 104,
   "id": "b4aa2470-7045-435c-b485-ad0b6fd0c891",
   "metadata": {
    "tags": []
   },
   "outputs": [],
   "source": [
    "building_df.drop(columna_muchos_null, axis = 1, inplace = True) #Quito columnas con poca utilidad y con muchos datos faltantes.\n",
    "#uso el parametro inplace en True para cambiar el DataFrame "
   ]
  },
  {
   "cell_type": "code",
   "execution_count": null,
   "id": "8b16dcf4-4f97-4361-880a-e79ff18171dc",
   "metadata": {},
   "outputs": [
    {
     "data": {
      "text/plain": [
       "Permit Number                                  0\n",
       "Permit Type                                    0\n",
       "Permit Type Definition                         0\n",
       "Permit Creation Date                           0\n",
       "Block                                          0\n",
       "Lot                                            0\n",
       "Street Number                                  0\n",
       "Street Name                                    0\n",
       "Street Suffix                               2768\n",
       "Description                                  290\n",
       "Current Status                                 0\n",
       "Current Status Date                            0\n",
       "Filed Date                                     0\n",
       "Issued Date                                14940\n",
       "Completed Date                            101709\n",
       "First Construction Document Date           14946\n",
       "Number of Existing Stories                 42784\n",
       "Number of Proposed Stories                 42868\n",
       "Permit Expiration Date                     51880\n",
       "Estimated Cost                             38066\n",
       "Revised Cost                                6066\n",
       "Existing Use                               41114\n",
       "Existing Units                             51538\n",
       "Proposed Use                               42439\n",
       "Proposed Units                             50911\n",
       "Plansets                                   37309\n",
       "Existing Construction Type                 43366\n",
       "Existing Construction Type Description     43366\n",
       "Proposed Construction Type                 43162\n",
       "Proposed Construction Type Description     43162\n",
       "Supervisor District                         1717\n",
       "Neighborhoods - Analysis Boundaries         1725\n",
       "Zipcode                                     1716\n",
       "Location                                    1700\n",
       "Record ID                                      0\n",
       "dtype: int64"
      ]
     },
     "execution_count": 105,
     "metadata": {},
     "output_type": "execute_result"
    }
   ],
   "source": [
    "total_valores_null = building_df.isnull().sum() #Vuelvo a contar los nulls ahora que he borrado las columnas con más cantidad\n",
    "total_valores_null"
   ]
  },
  {
   "cell_type": "markdown",
   "id": "1f30420b-cc28-4bfd-800c-e3ae41613667",
   "metadata": {},
   "source": [
    "<hr>\n",
    "<h2>Quitar los valores faltantes(o NaN): .dropna</h2>\n",
    "<p>Otra forma de encargarse de valores faltantes o del tipo NaN es utilizar la función <b>.dropna</b> para remover columnas o filas. Esta no es una practica recomendada a seguir, especialmente en proyectos importantes. Usualmente vale más el trabajo de explorar nuestros datos, y ver cada una de las columnas con valores ausentes para conocer nuestro mejor el conjunto de datos(<i>dataset</i>).</p> \n",
    "<br>\n",
    " ·Sin embargo, si estamos totalmente seguros a realizar esta acción, pandas nos ofrece esta función que remueve todas las filas con un valor ausente.\n"
   ]
  },
  {
   "cell_type": "code",
   "execution_count": 121,
   "id": "be07fa3d-43cc-426f-92fd-3c49d49dc3e1",
   "metadata": {
    "tags": []
   },
   "outputs": [
    {
     "data": {
      "text/plain": [
       "(86817, 35)"
      ]
     },
     "execution_count": 121,
     "metadata": {},
     "output_type": "execute_result"
    }
   ],
   "source": [
    "building_df.dropna().shape"
   ]
  },
  {
   "cell_type": "markdown",
   "id": "0d0606f0-cae0-4f86-a336-e72cc741cbbf",
   "metadata": {},
   "source": [
    "Vemos que nuestro DataFrame ahora tiene cada una de las filas con datos completos: en total se cuentan <b>86817 filas</b>. Lo que significa que, haciendo el siguiente calculo:"
   ]
  },
  {
   "cell_type": "code",
   "execution_count": 123,
   "id": "e5e04ba9-51c4-47dc-9b1b-714a2717f49d",
   "metadata": {},
   "outputs": [
    {
     "data": {
      "text/plain": [
       "112083"
      ]
     },
     "execution_count": 123,
     "metadata": {},
     "output_type": "execute_result"
    }
   ],
   "source": [
    "building_df.shape[0]-building_df.dropna().shape[0]"
   ]
  },
  {
   "cell_type": "markdown",
   "id": "b1ff0f47-6d54-4b08-889f-77e1e3093063",
   "metadata": {},
   "source": [
    "Podemos ver que la función .dropna() nos quita 112083 filas con valores NaN. Esto podría haber correspondido con casi el 100% las filas del dataframe si no hubieramos realizado el paso de quitar las columnas 'TIDF Compliance' o 'Voluntary Soft-Story Retrofit'.<br>\n",
    "Para que la función .dropna() reemplace los valores del dataframe al que indica la variable, tenemos que usar el parametro 'inplace = True'.<br> De lo contrario, ejecutar la función no tiene efecto en el DF. <br>\n",
    "<br>\n",
    "Podemos también remover por columna que tenga valores NaN, para eso usamos el parametro <b> axis</b> en valor 1.<br>\n",
    "En este caso vemos que quedan las 198900 filas totales, y 12 columnas sin valores faltantes."
   ]
  },
  {
   "cell_type": "code",
   "execution_count": 150,
   "id": "e8222aa7-77e1-4601-9b2d-42f8f2576d94",
   "metadata": {},
   "outputs": [
    {
     "data": {
      "text/html": [
       "<div>\n",
       "<style scoped>\n",
       "    .dataframe tbody tr th:only-of-type {\n",
       "        vertical-align: middle;\n",
       "    }\n",
       "\n",
       "    .dataframe tbody tr th {\n",
       "        vertical-align: top;\n",
       "    }\n",
       "\n",
       "    .dataframe thead th {\n",
       "        text-align: right;\n",
       "    }\n",
       "</style>\n",
       "<table border=\"1\" class=\"dataframe\">\n",
       "  <thead>\n",
       "    <tr style=\"text-align: right;\">\n",
       "      <th></th>\n",
       "      <th>Permit Number</th>\n",
       "      <th>Permit Type</th>\n",
       "      <th>Permit Type Definition</th>\n",
       "      <th>Permit Creation Date</th>\n",
       "      <th>Block</th>\n",
       "      <th>Lot</th>\n",
       "      <th>Street Number</th>\n",
       "      <th>Street Name</th>\n",
       "      <th>Current Status</th>\n",
       "      <th>Current Status Date</th>\n",
       "      <th>Filed Date</th>\n",
       "      <th>Record ID</th>\n",
       "    </tr>\n",
       "  </thead>\n",
       "  <tbody>\n",
       "    <tr>\n",
       "      <th>0</th>\n",
       "      <td>201505065519</td>\n",
       "      <td>4</td>\n",
       "      <td>sign - erect</td>\n",
       "      <td>05/06/2015</td>\n",
       "      <td>0326</td>\n",
       "      <td>023</td>\n",
       "      <td>140</td>\n",
       "      <td>Ellis</td>\n",
       "      <td>expired</td>\n",
       "      <td>12/21/2017</td>\n",
       "      <td>05/06/2015</td>\n",
       "      <td>1380611233945</td>\n",
       "    </tr>\n",
       "    <tr>\n",
       "      <th>1</th>\n",
       "      <td>201604195146</td>\n",
       "      <td>4</td>\n",
       "      <td>sign - erect</td>\n",
       "      <td>04/19/2016</td>\n",
       "      <td>0306</td>\n",
       "      <td>007</td>\n",
       "      <td>440</td>\n",
       "      <td>Geary</td>\n",
       "      <td>issued</td>\n",
       "      <td>08/03/2017</td>\n",
       "      <td>04/19/2016</td>\n",
       "      <td>1420164406718</td>\n",
       "    </tr>\n",
       "    <tr>\n",
       "      <th>2</th>\n",
       "      <td>201605278609</td>\n",
       "      <td>3</td>\n",
       "      <td>additions alterations or repairs</td>\n",
       "      <td>05/27/2016</td>\n",
       "      <td>0595</td>\n",
       "      <td>203</td>\n",
       "      <td>1647</td>\n",
       "      <td>Pacific</td>\n",
       "      <td>withdrawn</td>\n",
       "      <td>09/26/2017</td>\n",
       "      <td>05/27/2016</td>\n",
       "      <td>1424856504716</td>\n",
       "    </tr>\n",
       "    <tr>\n",
       "      <th>3</th>\n",
       "      <td>201611072166</td>\n",
       "      <td>8</td>\n",
       "      <td>otc alterations permit</td>\n",
       "      <td>11/07/2016</td>\n",
       "      <td>0156</td>\n",
       "      <td>011</td>\n",
       "      <td>1230</td>\n",
       "      <td>Pacific</td>\n",
       "      <td>complete</td>\n",
       "      <td>07/24/2017</td>\n",
       "      <td>11/07/2016</td>\n",
       "      <td>1443574295566</td>\n",
       "    </tr>\n",
       "    <tr>\n",
       "      <th>4</th>\n",
       "      <td>201611283529</td>\n",
       "      <td>6</td>\n",
       "      <td>demolitions</td>\n",
       "      <td>11/28/2016</td>\n",
       "      <td>0342</td>\n",
       "      <td>001</td>\n",
       "      <td>950</td>\n",
       "      <td>Market</td>\n",
       "      <td>issued</td>\n",
       "      <td>12/01/2017</td>\n",
       "      <td>11/28/2016</td>\n",
       "      <td>144548169992</td>\n",
       "    </tr>\n",
       "  </tbody>\n",
       "</table>\n",
       "</div>"
      ],
      "text/plain": [
       "  Permit Number  Permit Type            Permit Type Definition  \\\n",
       "0  201505065519            4                      sign - erect   \n",
       "1  201604195146            4                      sign - erect   \n",
       "2  201605278609            3  additions alterations or repairs   \n",
       "3  201611072166            8            otc alterations permit   \n",
       "4  201611283529            6                       demolitions   \n",
       "\n",
       "  Permit Creation Date Block  Lot  Street Number Street Name Current Status  \\\n",
       "0           05/06/2015  0326  023            140       Ellis        expired   \n",
       "1           04/19/2016  0306  007            440       Geary         issued   \n",
       "2           05/27/2016  0595  203           1647     Pacific      withdrawn   \n",
       "3           11/07/2016  0156  011           1230     Pacific       complete   \n",
       "4           11/28/2016  0342  001            950      Market         issued   \n",
       "\n",
       "  Current Status Date  Filed Date      Record ID  \n",
       "0          12/21/2017  05/06/2015  1380611233945  \n",
       "1          08/03/2017  04/19/2016  1420164406718  \n",
       "2          09/26/2017  05/27/2016  1424856504716  \n",
       "3          07/24/2017  11/07/2016  1443574295566  \n",
       "4          12/01/2017  11/28/2016   144548169992  "
      ]
     },
     "execution_count": 150,
     "metadata": {},
     "output_type": "execute_result"
    }
   ],
   "source": [
    "building_df_sin_col_n = building_df.dropna(axis=1)\n",
    "building_df_sin_col_n.head() #función head para ver los 5 primeros resultados"
   ]
  },
  {
   "cell_type": "code",
   "execution_count": 151,
   "id": "4e0de854-aadb-49a6-ab0e-ddf1a6a744cf",
   "metadata": {},
   "outputs": [
    {
     "name": "stdout",
     "output_type": "stream",
     "text": [
      "Forma resultante: (198900, 12)\n",
      "Columnas eliminadas: 23\n",
      "Celdas totales eliminadas: 4574700\n",
      "Celdas que nos quedaron: 2386800\n"
     ]
    }
   ],
   "source": [
    "print('Forma resultante:', building_df_sin_col_n.shape) #total de 198900 filas y 12 columnas\n",
    "print('Columnas eliminadas:', building_df.shape[1]-building_df_sin_col_n.shape[1]) #Vemos que la función dropna() nos ha quitado 23 columnas\n",
    "print('Celdas totales eliminadas:', (building_df.shape[1]-building_df_sin_col_n.shape[1]) * building_df_sin_col_n.shape[0])\n",
    "print('Celdas que nos quedaron:', (building_df_sin_col_n.shape[0] * building_df_sin_col_n.shape[1]))"
   ]
  },
  {
   "cell_type": "markdown",
   "id": "07ce69a7-bef3-4c7d-8ee0-ca95ef4c50ee",
   "metadata": {},
   "source": [
    "<hr>\n",
    "<h3>Llenar valores faltantes con la función .fillna()</h3>"
   ]
  },
  {
   "cell_type": "markdown",
   "id": "623fcd6c-11f7-4982-b7a5-dfd2c0c7f42b",
   "metadata": {},
   "source": [
    "Otra opción que tenemos para tratar los datos faltantes es usar la función .fillna() para que Pandas reemplace automaticamente cada valor NaN en el DataFrame. Por ejemplo, si queremos reemplazar con el valor cero:"
   ]
  },
  {
   "cell_type": "code",
   "execution_count": 207,
   "id": "99f76016-e45b-47f0-ba49-05abe6cd7ab2",
   "metadata": {},
   "outputs": [
    {
     "data": {
      "text/plain": [
       "Permit Number              0\n",
       "Permit Type                0\n",
       "Permit Creation Date       0\n",
       "Description              290\n",
       "Revised Cost            6066\n",
       "dtype: int64"
      ]
     },
     "execution_count": 207,
     "metadata": {},
     "output_type": "execute_result"
    }
   ],
   "source": [
    "columnas = ['Permit Number', 'Permit Type', 'Permit Creation Date', 'Description', 'Revised Cost']\n",
    "building_df_2 = building_df[columnas] #Creo otro dataFrame a partir del dataFrame original.\n",
    "building_df_2.isna().sum() #contamos cúantos valores nulos hay"
   ]
  },
  {
   "cell_type": "code",
   "execution_count": 208,
   "id": "d6da834f-fc86-4e80-ad74-035eef31f1e0",
   "metadata": {
    "tags": []
   },
   "outputs": [
    {
     "data": {
      "text/html": [
       "<div>\n",
       "<style scoped>\n",
       "    .dataframe tbody tr th:only-of-type {\n",
       "        vertical-align: middle;\n",
       "    }\n",
       "\n",
       "    .dataframe tbody tr th {\n",
       "        vertical-align: top;\n",
       "    }\n",
       "\n",
       "    .dataframe thead th {\n",
       "        text-align: right;\n",
       "    }\n",
       "</style>\n",
       "<table border=\"1\" class=\"dataframe\">\n",
       "  <thead>\n",
       "    <tr style=\"text-align: right;\">\n",
       "      <th></th>\n",
       "      <th>Permit Number</th>\n",
       "      <th>Permit Type</th>\n",
       "      <th>Permit Creation Date</th>\n",
       "      <th>Description</th>\n",
       "      <th>Revised Cost</th>\n",
       "    </tr>\n",
       "  </thead>\n",
       "  <tbody>\n",
       "    <tr>\n",
       "      <th>2</th>\n",
       "      <td>201605278609</td>\n",
       "      <td>3</td>\n",
       "      <td>05/27/2016</td>\n",
       "      <td>installation of separating wall</td>\n",
       "      <td>NaN</td>\n",
       "    </tr>\n",
       "    <tr>\n",
       "      <th>22</th>\n",
       "      <td>201708013544</td>\n",
       "      <td>3</td>\n",
       "      <td>08/01/2017</td>\n",
       "      <td>soft story retrofit per sfebc chapter 4d, asce...</td>\n",
       "      <td>NaN</td>\n",
       "    </tr>\n",
       "    <tr>\n",
       "      <th>55</th>\n",
       "      <td>201710242043</td>\n",
       "      <td>7</td>\n",
       "      <td>10/24/2017</td>\n",
       "      <td>re-face (1) existing projecting sign. maher na</td>\n",
       "      <td>NaN</td>\n",
       "    </tr>\n",
       "    <tr>\n",
       "      <th>64</th>\n",
       "      <td>201711154040</td>\n",
       "      <td>3</td>\n",
       "      <td>11/15/2017</td>\n",
       "      <td>fire alarm system for appln #201006104250</td>\n",
       "      <td>NaN</td>\n",
       "    </tr>\n",
       "    <tr>\n",
       "      <th>82</th>\n",
       "      <td>201712196846</td>\n",
       "      <td>3</td>\n",
       "      <td>12/19/2017</td>\n",
       "      <td>to comply with nov 201719241 seismic retrofit....</td>\n",
       "      <td>NaN</td>\n",
       "    </tr>\n",
       "    <tr>\n",
       "      <th>...</th>\n",
       "      <td>...</td>\n",
       "      <td>...</td>\n",
       "      <td>...</td>\n",
       "      <td>...</td>\n",
       "      <td>...</td>\n",
       "    </tr>\n",
       "    <tr>\n",
       "      <th>198823</th>\n",
       "      <td>201802232134</td>\n",
       "      <td>6</td>\n",
       "      <td>02/23/2018</td>\n",
       "      <td>demolish 1-story gas station.** maher: n/a **</td>\n",
       "      <td>NaN</td>\n",
       "    </tr>\n",
       "    <tr>\n",
       "      <th>198827</th>\n",
       "      <td>201802232137</td>\n",
       "      <td>3</td>\n",
       "      <td>02/23/2018</td>\n",
       "      <td>infill (e) stair to add 70sf of conditioned sp...</td>\n",
       "      <td>NaN</td>\n",
       "    </tr>\n",
       "    <tr>\n",
       "      <th>198828</th>\n",
       "      <td>201802232137</td>\n",
       "      <td>3</td>\n",
       "      <td>02/23/2018</td>\n",
       "      <td>infill (e) stair to add 70sf of conditioned sp...</td>\n",
       "      <td>NaN</td>\n",
       "    </tr>\n",
       "    <tr>\n",
       "      <th>198836</th>\n",
       "      <td>201802232143</td>\n",
       "      <td>4</td>\n",
       "      <td>02/23/2018</td>\n",
       "      <td>erect non electric wall sign</td>\n",
       "      <td>NaN</td>\n",
       "    </tr>\n",
       "    <tr>\n",
       "      <th>198862</th>\n",
       "      <td>201802232161</td>\n",
       "      <td>8</td>\n",
       "      <td>02/23/2018</td>\n",
       "      <td>replacement of in-kind door along polk street.</td>\n",
       "      <td>NaN</td>\n",
       "    </tr>\n",
       "  </tbody>\n",
       "</table>\n",
       "<p>6066 rows × 5 columns</p>\n",
       "</div>"
      ],
      "text/plain": [
       "       Permit Number  Permit Type Permit Creation Date  \\\n",
       "2       201605278609            3           05/27/2016   \n",
       "22      201708013544            3           08/01/2017   \n",
       "55      201710242043            7           10/24/2017   \n",
       "64      201711154040            3           11/15/2017   \n",
       "82      201712196846            3           12/19/2017   \n",
       "...              ...          ...                  ...   \n",
       "198823  201802232134            6           02/23/2018   \n",
       "198827  201802232137            3           02/23/2018   \n",
       "198828  201802232137            3           02/23/2018   \n",
       "198836  201802232143            4           02/23/2018   \n",
       "198862  201802232161            8           02/23/2018   \n",
       "\n",
       "                                              Description  Revised Cost  \n",
       "2                         installation of separating wall           NaN  \n",
       "22      soft story retrofit per sfebc chapter 4d, asce...           NaN  \n",
       "55         re-face (1) existing projecting sign. maher na           NaN  \n",
       "64              fire alarm system for appln #201006104250           NaN  \n",
       "82      to comply with nov 201719241 seismic retrofit....           NaN  \n",
       "...                                                   ...           ...  \n",
       "198823      demolish 1-story gas station.** maher: n/a **           NaN  \n",
       "198827  infill (e) stair to add 70sf of conditioned sp...           NaN  \n",
       "198828  infill (e) stair to add 70sf of conditioned sp...           NaN  \n",
       "198836                       erect non electric wall sign           NaN  \n",
       "198862     replacement of in-kind door along polk street.           NaN  \n",
       "\n",
       "[6066 rows x 5 columns]"
      ]
     },
     "execution_count": 208,
     "metadata": {},
     "output_type": "execute_result"
    }
   ],
   "source": [
    "building_df_2[building_df_2['Revised Cost'].isna()]\n",
    "#Vemos las filas donde Revised Cost sea NaN. Esta linea lleva implicita la evaluación True"
   ]
  },
  {
   "cell_type": "markdown",
   "id": "d7b94b5f-a075-488d-8cbb-0364be2542f6",
   "metadata": {},
   "source": [
    "Podemos intuir que la fila Description podría haber sido registrada, pero en 290 valores no lo fue, el dato es que no esta registrado o no hay descripción."
   ]
  },
  {
   "cell_type": "code",
   "execution_count": 214,
   "id": "025fe30e-196e-4c61-bf9e-b0dd14584f90",
   "metadata": {},
   "outputs": [],
   "source": [
    "sin_nan = building_df_2[building_df_2['Revised Cost'].isna()== False]"
   ]
  },
  {
   "cell_type": "code",
   "execution_count": 245,
   "id": "66c61190-4784-4577-bb1b-591599a81413",
   "metadata": {},
   "outputs": [
    {
     "data": {
      "text/html": [
       "<div>\n",
       "<style scoped>\n",
       "    .dataframe tbody tr th:only-of-type {\n",
       "        vertical-align: middle;\n",
       "    }\n",
       "\n",
       "    .dataframe tbody tr th {\n",
       "        vertical-align: top;\n",
       "    }\n",
       "\n",
       "    .dataframe thead th {\n",
       "        text-align: right;\n",
       "    }\n",
       "</style>\n",
       "<table border=\"1\" class=\"dataframe\">\n",
       "  <thead>\n",
       "    <tr style=\"text-align: right;\">\n",
       "      <th></th>\n",
       "      <th>Permit Number</th>\n",
       "      <th>Permit Type</th>\n",
       "      <th>Permit Creation Date</th>\n",
       "      <th>Description</th>\n",
       "      <th>Revised Cost</th>\n",
       "    </tr>\n",
       "  </thead>\n",
       "  <tbody>\n",
       "    <tr>\n",
       "      <th>0</th>\n",
       "      <td>201505065519</td>\n",
       "      <td>4</td>\n",
       "      <td>05/06/2015</td>\n",
       "      <td>ground fl facade: to erect illuminated, electr...</td>\n",
       "      <td>4000.0</td>\n",
       "    </tr>\n",
       "    <tr>\n",
       "      <th>1</th>\n",
       "      <td>201604195146</td>\n",
       "      <td>4</td>\n",
       "      <td>04/19/2016</td>\n",
       "      <td>remove (e) awning and associated signs.</td>\n",
       "      <td>500.0</td>\n",
       "    </tr>\n",
       "    <tr>\n",
       "      <th>2</th>\n",
       "      <td>201605278609</td>\n",
       "      <td>3</td>\n",
       "      <td>05/27/2016</td>\n",
       "      <td>installation of separating wall</td>\n",
       "      <td>0.0</td>\n",
       "    </tr>\n",
       "    <tr>\n",
       "      <th>3</th>\n",
       "      <td>201611072166</td>\n",
       "      <td>8</td>\n",
       "      <td>11/07/2016</td>\n",
       "      <td>repair dryrot &amp; stucco at front of bldg.</td>\n",
       "      <td>2000.0</td>\n",
       "    </tr>\n",
       "    <tr>\n",
       "      <th>4</th>\n",
       "      <td>201611283529</td>\n",
       "      <td>6</td>\n",
       "      <td>11/28/2016</td>\n",
       "      <td>demolish retail/office/commercial 3-story buil...</td>\n",
       "      <td>100000.0</td>\n",
       "    </tr>\n",
       "  </tbody>\n",
       "</table>\n",
       "</div>"
      ],
      "text/plain": [
       "  Permit Number  Permit Type Permit Creation Date  \\\n",
       "0  201505065519            4           05/06/2015   \n",
       "1  201604195146            4           04/19/2016   \n",
       "2  201605278609            3           05/27/2016   \n",
       "3  201611072166            8           11/07/2016   \n",
       "4  201611283529            6           11/28/2016   \n",
       "\n",
       "                                         Description  Revised Cost  \n",
       "0  ground fl facade: to erect illuminated, electr...        4000.0  \n",
       "1            remove (e) awning and associated signs.         500.0  \n",
       "2                    installation of separating wall           0.0  \n",
       "3           repair dryrot & stucco at front of bldg.        2000.0  \n",
       "4  demolish retail/office/commercial 3-story buil...      100000.0  "
      ]
     },
     "execution_count": 245,
     "metadata": {},
     "output_type": "execute_result"
    }
   ],
   "source": [
    "building_df_2 = building_df_2.fillna(0) #Volvemos a declarar la variable, ahora con el valor de 0 en donde antes estaba NaN\n",
    "building_df_2.head(5)"
   ]
  }
 ],
 "metadata": {
  "kernelspec": {
   "display_name": "Python 3 (ipykernel)",
   "language": "python",
   "name": "python3"
  },
  "language_info": {
   "codemirror_mode": {
    "name": "ipython",
    "version": 3
   },
   "file_extension": ".py",
   "mimetype": "text/x-python",
   "name": "python",
   "nbconvert_exporter": "python",
   "pygments_lexer": "ipython3",
   "version": "3.9.13"
  }
 },
 "nbformat": 4,
 "nbformat_minor": 5
}
